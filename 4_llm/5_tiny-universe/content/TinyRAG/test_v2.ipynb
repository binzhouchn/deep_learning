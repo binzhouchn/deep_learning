{
 "cells": [
  {
   "cell_type": "code",
   "execution_count": 1,
   "metadata": {},
   "outputs": [],
   "source": [
    "from rag_v2.VectorBase import VectorStore\n",
    "from rag_v2.utils import ReadFiles\n",
    "from rag_v2.LLM import OpenAIChat, InternLMChat\n",
    "from rag_v2.Embeddings import Bgem3Embedding, JinaEmbedding"
   ]
  },
  {
   "cell_type": "code",
   "execution_count": 2,
   "metadata": {},
   "outputs": [
    {
     "name": "stderr",
     "output_type": "stream",
     "text": [
      "Calculating embeddings: 100%|██████████| 100/100 [00:11<00:00,  8.47it/s]\n"
     ]
    }
   ],
   "source": [
    "# 建立向量数据库\n",
    "docs = ReadFiles('/Users/zhoubin/Desktop/prods').get_content(max_token_len=800, cover_content=250) # 获得prods目录下的所有文件内容并分割\n",
    "vector = VectorStore(docs)\n",
    "# embedding = Bgem3Embedding() # 创建EmbeddingModel\n",
    "embedding = JinaEmbedding(path='/Users/zhoubin/pretrained/jina-embeddings-v2-base-zh') # 创建EmbeddingModel\n",
    "vector.get_vector(EmbeddingModel=embedding)\n",
    "vector.persist(path='/Users/zhoubin/Desktop/prods/storage') # 将向量和文档内容保存到storage目录下，下次再用就可以直接加载本地的数据库"
   ]
  },
  {
   "cell_type": "code",
   "execution_count": 7,
   "metadata": {},
   "outputs": [
    {
     "name": "stdout",
     "output_type": "stream",
     "text": [
      "金额等比例减少，我们将退还减少部分对应的现金价值。太平岁岁鑫享终身寿险，第3页，共12页\n",
      "得超过本合同生效时基本保险金额的20%。基本保险金额减少后，本合同保险费不低于我们规定的最低标准。\n",
      "如果基本保险金额发生变更，则以变更后的金额为基本保险金额，有效保险金额相应调整。\n",
      "第六条等待期\n",
      "自本合同生效日零时起90日为等待期。如果本合同曾一次或多次恢复效力，则自每次合同效力恢复之\n",
      "日零时起90日均为等待期。\n",
      "如果本合同的被保险人为一人，若在等待期内因意外伤害事故7以外的原因导致被保险人身故或全残（有\n",
      "关全残定义，请参见本合同第三十三条），我们不承担保险责任，并无息退还本合同的已交保险费，同时本合同终止。\n",
      "如果本合同的被保险人为两人，若在等待期内因意外伤害事故以外的原因导致先身故或全残的被保险人\n",
      "身故或全残，我们不承担豁免保险费的责任，同时对该被保险人的保险责任终止，本合同继续有效。若在等\n",
      "待期内因意外伤害事故以外的原因导致后身故或全残的被保险人身故或全残，或者在等待期内因意外伤害事\n",
      "故以外的原因导致两名被保险人身故或全残，且无法确定两名被保险人身故或全残的先后顺序，我们不承担\n",
      "\n"
     ]
    }
   ],
   "source": [
    "vector = VectorStore()\n",
    "vector.load_vector('/Users/zhoubin/Desktop/prods/storage') # 加载本地的数据库\n",
    "embedding = JinaEmbedding(path='/Users/zhoubin/pretrained/jina-embeddings-v2-base-zh')\n",
    "question = '岁岁鑫享的等待期'\n",
    "content = vector.query(question, EmbeddingModel=embedding, k=1)[0]\n",
    "print(content)"
   ]
  },
  {
   "cell_type": "code",
   "execution_count": 8,
   "metadata": {},
   "outputs": [
    {
     "name": "stdout",
     "output_type": "stream",
     "text": [
      "岁岁鑫享终身寿险的等待期为自合同生效日零时起90日。如果合同曾一次或多次恢复效力，则每次效力恢复之日起90日均为等待期。在等待期内，如果被保险人因意外伤害事故以外的原因导致身故或全残，保险公司不承担保险责任。\n"
     ]
    }
   ],
   "source": [
    "# model = InternLMChat(path='/root/autodl-tmp/Shanghai_AI_Laboratory/internlm2-chat-7b')\n",
    "# print(model.chat(question, [], content))\n",
    "model = OpenAIChat(model='glm-4')\n",
    "print(model.chat(question, [], content))"
   ]
  },
  {
   "cell_type": "code",
   "execution_count": null,
   "metadata": {},
   "outputs": [],
   "source": []
  }
 ],
 "metadata": {
  "kernelspec": {
   "display_name": "base",
   "language": "python",
   "name": "python3"
  },
  "language_info": {
   "codemirror_mode": {
    "name": "ipython",
    "version": 3
   },
   "file_extension": ".py",
   "mimetype": "text/x-python",
   "name": "python",
   "nbconvert_exporter": "python",
   "pygments_lexer": "ipython3",
   "version": "3.11.7"
  }
 },
 "nbformat": 4,
 "nbformat_minor": 2
}
